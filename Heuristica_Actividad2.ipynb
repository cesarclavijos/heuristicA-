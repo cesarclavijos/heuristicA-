{
 "cells": [
  {
   "cell_type": "code",
   "execution_count": 1,
   "id": "signal-mirror",
   "metadata": {},
   "outputs": [],
   "source": [
    "import pandas as pd\n",
    "import copy\n",
    "from heapq import heappop, heappush"
   ]
  },
  {
   "cell_type": "code",
   "execution_count": 2,
   "id": "quality-threat",
   "metadata": {},
   "outputs": [],
   "source": [
    "def maze2graph(maze):\n",
    "    height = len(maze)\n",
    "    width = len(maze[0]) if height else 0\n",
    "    graph = {(i, j): [] for j in range(width) for i in range(height) if not maze[i][j]}\n",
    "    for row, col in graph.keys():\n",
    "        if row < height - 1 and not maze[row + 1][col]:\n",
    "            graph[(row, col)].append((\"S\", (row + 1, col)))\n",
    "            graph[(row + 1, col)].append((\"N\", (row, col)))\n",
    "        if col < width - 1 and not maze[row][col + 1]:\n",
    "            graph[(row, col)].append((\"E\", (row, col + 1)))\n",
    "            graph[(row, col + 1)].append((\"W\", (row, col)))\n",
    "    return graph"
   ]
  },
  {
   "cell_type": "code",
   "execution_count": 3,
   "id": "sensitive-hardware",
   "metadata": {},
   "outputs": [],
   "source": [
    "def heuristic(cell, goal):\n",
    "    return abs(cell[0] - goal[0]) + abs(cell[1] - goal[1])\n",
    "\n",
    "\n",
    "def find_path_astar(maze,start,goal):\n",
    "    pr_queue = []\n",
    "    heappush(pr_queue, (0 + heuristic(start, goal), 0, \"\", start))\n",
    "    visited = set()\n",
    "    graph = maze2graph(maze)\n",
    "    while pr_queue:\n",
    "        _, cost, path, current = heappop(pr_queue)\n",
    "        if current == goal:\n",
    "            return path\n",
    "        if current in visited:\n",
    "            continue\n",
    "        visited.add(current)\n",
    "        for direction, neighbour in graph[current]:\n",
    "            heappush(pr_queue, (cost + heuristic(neighbour, goal), cost + 1,\n",
    "                                path + direction, neighbour))\n",
    "    return \"NO WAY!\""
   ]
  },
  {
   "cell_type": "code",
   "execution_count": 4,
   "id": "golden-wiring",
   "metadata": {},
   "outputs": [],
   "source": [
    "def buscarPos(x, mapa):\n",
    "    for f in range(len(mapa)):\n",
    "        for c in range(len(mapa[0])):\n",
    "            if mapa[f][c] == x:\n",
    "                return (f, c)\n",
    "    return 0"
   ]
  },
  {
   "cell_type": "code",
   "execution_count": 5,
   "id": "distributed-hardware",
   "metadata": {},
   "outputs": [],
   "source": [
    "def listarCadena(cadena):\n",
    "    lista = []\n",
    "    for i in range(len(cadena)):\n",
    "        if cadena[i] == \".\":\n",
    "            lista.append(0)\n",
    "        if cadena[i] == \"#\":\n",
    "            lista.append(1)\n",
    "        if cadena[i] == \"T\":\n",
    "            lista.append(0)\n",
    "        if cadena[i] == \"S\":\n",
    "            lista.append(0)\n",
    "        if cadena[i] == \"X\":\n",
    "            lista.append(0)\n",
    "        if cadena[i] == \"L\":\n",
    "            lista.append(0)\n",
    "        if cadena[i] == \"A\":\n",
    "            lista.append(0)\n",
    "        if cadena[i] == \"B\":\n",
    "            lista.append(0)\n",
    "        if cadena[i] == \"C\":\n",
    "            lista.append(0)\n",
    "    return lista"
   ]
  },
  {
   "cell_type": "code",
   "execution_count": 6,
   "id": "broken-christmas",
   "metadata": {},
   "outputs": [],
   "source": [
    "def listarCadena2(cadena):\n",
    "    lista = []\n",
    "    for i in range(len(cadena)):\n",
    "        if cadena[i] == \".\":\n",
    "            lista.append(0)\n",
    "        if cadena[i] == \"#\":\n",
    "            lista.append(1)\n",
    "        if cadena[i] == \"T\":\n",
    "            lista.append(2)\n",
    "        if cadena[i] == \"S\":\n",
    "            lista.append(3)\n",
    "        if cadena[i] == \"X\":\n",
    "            lista.append(4)\n",
    "        if cadena[i] == \"L\":\n",
    "            lista.append(5)\n",
    "        if cadena[i] == \"A\":\n",
    "            lista.append(6)\n",
    "        if cadena[i] == \"B\":\n",
    "            lista.append(7)\n",
    "        if cadena[i] == \"C\":\n",
    "            lista.append(8)\n",
    "    return lista"
   ]
  },
  {
   "cell_type": "code",
   "execution_count": 7,
   "id": "federal-affect",
   "metadata": {},
   "outputs": [],
   "source": [
    "def listarCadena3(cadena):\n",
    "    lista = []\n",
    "    for i in range(len(cadena)):\n",
    "        if cadena[i] == 0:\n",
    "            lista.append(\".\")\n",
    "        if cadena[i] == 1:\n",
    "            lista.append(\"#\")\n",
    "        if cadena[i] == 2:\n",
    "            lista.append(\"T\")\n",
    "        if cadena[i] == 3:\n",
    "            lista.append(\"S\")\n",
    "        if cadena[i] == 4:\n",
    "            lista.append(\"X\")\n",
    "        if cadena[i] == 5:\n",
    "            lista.append(\"L\")\n",
    "        if cadena[i] == 6:\n",
    "            lista.append(\"A\")\n",
    "        if cadena[i] == 7:\n",
    "            lista.append(\"B\")\n",
    "        if cadena[i] == 8:\n",
    "            lista.append(\"C\")\n",
    "    return lista"
   ]
  },
  {
   "cell_type": "code",
   "execution_count": 8,
   "id": "formed-brown",
   "metadata": {},
   "outputs": [],
   "source": [
    "def leerMapa(archivo):\n",
    "    mapa = open(archivo, \"r\")\n",
    "    mapa = mapa.readlines()\n",
    "    for i in range(len(mapa)-1):\n",
    "        mapa[i] = mapa[i][:-1]\n",
    "    return mapa"
   ]
  },
  {
   "cell_type": "markdown",
   "id": "another-gamma",
   "metadata": {},
   "source": [
    "# Prueba"
   ]
  },
  {
   "cell_type": "markdown",
   "id": "unexpected-shell",
   "metadata": {},
   "source": [
    "Lista de objetos:\n",
    "    - M1:3\n",
    "    - M2:4\n",
    "    - M3:5\n",
    "    - Destino M1:6\n",
    "    - Destino M2:7\n",
    "    - Destino M3:8\n",
    "    - Carrito :2\n",
    "    - Paredes:1\n",
    "    - Espacio libre :0"
   ]
  },
  {
   "cell_type": "code",
   "execution_count": 9,
   "id": "gorgeous-georgia",
   "metadata": {},
   "outputs": [],
   "source": [
    "class Nodo:\n",
    "    def __init__(self, archivo):\n",
    "        self.mapa = leerMapa(archivo)\n",
    "        self.cargando = 0 \n",
    "        self.MostrarMapaConObjetivos = copy.deepcopy(self.mapa)\n",
    "        for i in range(len(self.MostrarMapaConObjetivos)):\n",
    "            self.MostrarMapaConObjetivos[i] = listarCadena2(self.MostrarMapaConObjetivos[i])\n",
    "        self.MostrarMapa = copy.deepcopy(self.mapa)\n",
    "        for i in range(len(self.MostrarMapa)):\n",
    "            self.MostrarMapa[i] = listarCadena(self.MostrarMapa[i])\n",
    "    \n",
    "    def Objetivos(self):\n",
    "        if self.cargando == 0:\n",
    "            objetivos = self.MostrarMapaConObjetivos\n",
    "            carrito = buscarPos(2, objetivos)\n",
    "            ObjetivoA =  buscarPos(3, objetivos)\n",
    "            ObjetivoB =  buscarPos(4, objetivos)\n",
    "            ObjetivoC =  buscarPos(5, objetivos)\n",
    "            return carrito,ObjetivoA,ObjetivoB,ObjetivoC\n",
    "        else:\n",
    "            print(\"No se puede buscar otra caja ya estas cargando una\")\n",
    "            return\n",
    "    \n",
    "    def IdentificarObjetivoMasCercano(self):\n",
    "        if self.cargando == 0:\n",
    "            self.carrito,A,B,C = self.Objetivos()\n",
    "            if A == 0:\n",
    "                self.caminoA = 99\n",
    "            else :\n",
    "                self.caminoA = len(find_path_astar(self.MostrarMapa,self.carrito,A))\n",
    "            if B != 0:\n",
    "                self.caminoB = len(find_path_astar(self.MostrarMapa,self.carrito,B))\n",
    "            else :\n",
    "                self.caminoB = 99\n",
    "            if C != 0:\n",
    "                self.caminoC = len(find_path_astar(self.MostrarMapa,self.carrito,C))\n",
    "            else :\n",
    "                self.caminoC = 99\n",
    "                \n",
    "            \n",
    "            self.Total=[]\n",
    "            self.Total= {'Objetivo':[\"A\", \"B\",\"C\"],'Distancia':[self.caminoA,self.caminoB,self.caminoC],'Ubicacion':[A,B,C],\n",
    "                        'Descarga':[buscarPos(6, self.MostrarMapaConObjetivos),buscarPos(7, self.MostrarMapaConObjetivos),buscarPos(8, self.MostrarMapaConObjetivos)]}\n",
    "            self.Total = pd.DataFrame(self.Total)\n",
    "            self.Total.sort_values(by=['Distancia'], inplace=True)\n",
    "            print(f\"Objetivo mas Cercano es : {self.Total.Objetivo.iloc[0]} en la ubicacion {self.Total.Ubicacion.iloc[0]} \")\n",
    "            return self.MostrarMapaConObjetivos\n",
    "        else:\n",
    "            print(\"No se puede buscar otra caja ya estas cargando una\")\n",
    "            return\n",
    "    \n",
    "    \n",
    "    def Descargarobjeto(self):\n",
    "        if self.cargando == 1:\n",
    "            \n",
    "            self.carrito = buscarPos(2,  self.MostrarMapaConObjetivos)\n",
    "            self.movimiento = find_path_astar(self.MostrarMapa,self.carrito,self.Total.Descarga.iloc[0])\n",
    "            mapaconmovimiento = pd.DataFrame(self.MostrarMapaConObjetivos)\n",
    "            mapaconmovimiento[self.Total.Descarga.iloc[0][1]][self.Total.Descarga.iloc[0][0]] =2\n",
    "            mapaconmovimiento[self.carrito[1]][self.carrito[0]] = 0\n",
    "            self.MostrarMapaConObjetivos = mapaconmovimiento.values.tolist()\n",
    "            print(f\"Los movimientos realizados fueron: {self.movimiento}, el objetivo fue descargado en la ubicacion {self.Total.Descarga.iloc[0]} \")\n",
    "            self.cargando = 0\n",
    "            return self.MostrarMapaConObjetivos\n",
    "        else:\n",
    "            print(\"No hay nada que descargar\")\n",
    "            return\n",
    "    \n",
    "    def CargarObjeto(self):\n",
    "        if self.cargando == 0:\n",
    "            self.IdentificarObjetivoMasCercano()\n",
    "            self.movimiento = find_path_astar(self.MostrarMapa,self.carrito,self.Total.Ubicacion.iloc[0])\n",
    "            mapaconmovimiento = pd.DataFrame(self.MostrarMapaConObjetivos)\n",
    "            mapaconmovimiento[self.Total.Ubicacion.iloc[0][1]][self.Total.Ubicacion.iloc[0][0]] =2\n",
    "            mapaconmovimiento[self.carrito[1]][self.carrito[0]] = 0\n",
    "            self.MostrarMapaConObjetivos = mapaconmovimiento.values.tolist()\n",
    "            print(f\"Los movimientos realizados fueron es: {self.movimiento}, el carrito llego a la ubicacion {self.Total.Ubicacion.iloc[0]}\")\n",
    "            self.cargando = 1\n",
    "            return self.MostrarMapaConObjetivos\n",
    "        else:\n",
    "            print(\"No se puede cargar otra caja ya estas cargando una\")\n",
    "            return\n",
    "        \n",
    "        \n",
    "    "
   ]
  },
  {
   "cell_type": "code",
   "execution_count": 10,
   "id": "hearing-carbon",
   "metadata": {},
   "outputs": [],
   "source": [
    "x = Nodo(\"mapa.txt\")"
   ]
  },
  {
   "cell_type": "code",
   "execution_count": 11,
   "id": "latter-chase",
   "metadata": {},
   "outputs": [
    {
     "name": "stdout",
     "output_type": "stream",
     "text": [
      "Objetivo mas Cercano es : B en la ubicacion (3, 1) \n",
      "Los movimientos realizados fueron es: WW, el carrito llego a la ubicacion (3, 1)\n"
     ]
    },
    {
     "data": {
      "text/plain": [
       "[[1, 1, 1, 1, 1, 1],\n",
       " [1, 5, 1, 0, 3, 1],\n",
       " [1, 0, 1, 0, 0, 1],\n",
       " [1, 2, 0, 0, 0, 1],\n",
       " [1, 0, 6, 7, 8, 1],\n",
       " [1, 1, 1, 1, 1, 1]]"
      ]
     },
     "execution_count": 11,
     "metadata": {},
     "output_type": "execute_result"
    }
   ],
   "source": [
    "a = x.CargarObjeto()\n",
    "a"
   ]
  },
  {
   "cell_type": "code",
   "execution_count": 12,
   "id": "desirable-samba",
   "metadata": {},
   "outputs": [
    {
     "name": "stdout",
     "output_type": "stream",
     "text": [
      "Los movimientos realizados fueron: EES, el objetivo fue descargado en la ubicacion (4, 3) \n"
     ]
    },
    {
     "data": {
      "text/plain": [
       "[[1, 1, 1, 1, 1, 1],\n",
       " [1, 5, 1, 0, 3, 1],\n",
       " [1, 0, 1, 0, 0, 1],\n",
       " [1, 0, 0, 0, 0, 1],\n",
       " [1, 0, 6, 2, 8, 1],\n",
       " [1, 1, 1, 1, 1, 1]]"
      ]
     },
     "execution_count": 12,
     "metadata": {},
     "output_type": "execute_result"
    }
   ],
   "source": [
    "a = x.Descargarobjeto()\n",
    "a"
   ]
  },
  {
   "cell_type": "code",
   "execution_count": 13,
   "id": "configured-granny",
   "metadata": {},
   "outputs": [
    {
     "name": "stdout",
     "output_type": "stream",
     "text": [
      "Objetivo mas Cercano es : A en la ubicacion (1, 4) \n",
      "Los movimientos realizados fueron es: ENNN, el carrito llego a la ubicacion (1, 4)\n"
     ]
    },
    {
     "data": {
      "text/plain": [
       "[[1, 1, 1, 1, 1, 1],\n",
       " [1, 5, 1, 0, 2, 1],\n",
       " [1, 0, 1, 0, 0, 1],\n",
       " [1, 0, 0, 0, 0, 1],\n",
       " [1, 0, 6, 0, 8, 1],\n",
       " [1, 1, 1, 1, 1, 1]]"
      ]
     },
     "execution_count": 13,
     "metadata": {},
     "output_type": "execute_result"
    }
   ],
   "source": [
    "a = x.CargarObjeto()\n",
    "a"
   ]
  },
  {
   "cell_type": "code",
   "execution_count": 42,
   "id": "genuine-blake",
   "metadata": {},
   "outputs": [
    {
     "name": "stdout",
     "output_type": "stream",
     "text": [
      "Los movimientos realizados fueron: SSSWW, el objetivo fue descargado en la ubicacion (4, 2) \n"
     ]
    },
    {
     "data": {
      "text/plain": [
       "[[1, 1, 1, 1, 1, 1],\n",
       " [1, 5, 1, 0, 0, 1],\n",
       " [1, 0, 1, 0, 0, 1],\n",
       " [1, 0, 0, 0, 0, 1],\n",
       " [1, 0, 2, 0, 8, 1],\n",
       " [1, 1, 1, 1, 1, 1]]"
      ]
     },
     "execution_count": 42,
     "metadata": {},
     "output_type": "execute_result"
    }
   ],
   "source": [
    "a = x.Descargarobjeto()\n",
    "a"
   ]
  },
  {
   "cell_type": "code",
   "execution_count": 43,
   "id": "fourth-stranger",
   "metadata": {},
   "outputs": [
    {
     "name": "stdout",
     "output_type": "stream",
     "text": [
      "Objetivo mas Cercano es : C en la ubicacion (1, 1) \n",
      "Los movimientos realizados fueron es: NWNN, el carrito llego a la ubicacion (1, 1)\n"
     ]
    },
    {
     "data": {
      "text/plain": [
       "[[1, 1, 1, 1, 1, 1],\n",
       " [1, 2, 1, 0, 0, 1],\n",
       " [1, 0, 1, 0, 0, 1],\n",
       " [1, 0, 0, 0, 0, 1],\n",
       " [1, 0, 0, 0, 8, 1],\n",
       " [1, 1, 1, 1, 1, 1]]"
      ]
     },
     "execution_count": 43,
     "metadata": {},
     "output_type": "execute_result"
    }
   ],
   "source": [
    "a = x.CargarObjeto()\n",
    "a"
   ]
  },
  {
   "cell_type": "code",
   "execution_count": 44,
   "id": "sufficient-capability",
   "metadata": {},
   "outputs": [
    {
     "name": "stdout",
     "output_type": "stream",
     "text": [
      "Los movimientos realizados fueron: SSEEES, el objetivo fue descargado en la ubicacion (4, 4) \n"
     ]
    },
    {
     "data": {
      "text/plain": [
       "[[1, 1, 1, 1, 1, 1],\n",
       " [1, 0, 1, 0, 0, 1],\n",
       " [1, 0, 1, 0, 0, 1],\n",
       " [1, 0, 0, 0, 0, 1],\n",
       " [1, 0, 0, 0, 2, 1],\n",
       " [1, 1, 1, 1, 1, 1]]"
      ]
     },
     "execution_count": 44,
     "metadata": {},
     "output_type": "execute_result"
    }
   ],
   "source": [
    "a = x.Descargarobjeto()\n",
    "a"
   ]
  },
  {
   "cell_type": "code",
   "execution_count": null,
   "id": "urban-first",
   "metadata": {},
   "outputs": [],
   "source": []
  }
 ],
 "metadata": {
  "kernelspec": {
   "display_name": "Python 3",
   "language": "python",
   "name": "python3"
  },
  "language_info": {
   "codemirror_mode": {
    "name": "ipython",
    "version": 3
   },
   "file_extension": ".py",
   "mimetype": "text/x-python",
   "name": "python",
   "nbconvert_exporter": "python",
   "pygments_lexer": "ipython3",
   "version": "3.8.5"
  }
 },
 "nbformat": 4,
 "nbformat_minor": 5
}
